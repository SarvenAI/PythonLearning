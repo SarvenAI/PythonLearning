{
 "cells": [
  {
   "cell_type": "code",
   "execution_count": 23,
   "id": "65f494c8-6d1e-4a63-b7ae-41f36d5ccddf",
   "metadata": {},
   "outputs": [
    {
     "name": "stdout",
     "output_type": "stream",
     "text": [
      "this car uses deisel\n",
      "this is deisel engine\n",
      "i am driving this car\n"
     ]
    }
   ],
   "source": [
    "#Duck typing\n",
    "class pertrolcar():\n",
    "    def fuel(self):\n",
    "        print(\"this car uses petrol\")\n",
    "    def engine(self):\n",
    "        print(\"this is petrol engine\")\n",
    "\n",
    "class deiselcar():\n",
    "     def fuel(self):\n",
    "        print(\"this car uses deisel\")\n",
    "     def engine(self):\n",
    "        print(\"this is deisel engine\")\n",
    "\n",
    "class car():\n",
    "    def drive(self,cartype):\n",
    "        cartype.fuel()\n",
    "        cartype.engine()\n",
    "        print(\"i am driving this car\")\n",
    "\n",
    "mypetrolcar = pertrolcar()\n",
    "mydeiselcar = deiselcar()\n",
    "mycar = car()\n",
    "mycar.drive(mydeiselcar)"
   ]
  },
  {
   "cell_type": "code",
   "execution_count": 1,
   "id": "c757bd26-d077-4e2d-9ddf-868b36773950",
   "metadata": {},
   "outputs": [],
   "source": [
    "#ducktyping\n"
   ]
  },
  {
   "cell_type": "code",
   "execution_count": 7,
   "id": "206bb344-c52b-4563-b662-e4683b9afd76",
   "metadata": {},
   "outputs": [
    {
     "name": "stdout",
     "output_type": "stream",
     "text": [
      "0\n"
     ]
    }
   ],
   "source": [
    "#method overloading\n",
    "class addition():\n",
    "    def add(self,x,y,z):\n",
    "        a = x+y+z\n",
    "        return a\n",
    "\n",
    "    def add(self,x,y):\n",
    "        a = x+y\n",
    "        return a\n",
    "\n",
    "    def add(self,x=None,y=None,z=None):\n",
    "        if x!=None and y!=None and z!=None:\n",
    "            a = x+y+z\n",
    "        elif x!=None and y!=None: \n",
    "            a = x+y\n",
    "        elif x!=None:\n",
    "            a=x\n",
    "        else:\n",
    "            a=0        \n",
    "        return a\n",
    "\n",
    "\n",
    "\n",
    "a1 = addition()\n",
    "print(a1.add())"
   ]
  },
  {
   "cell_type": "code",
   "execution_count": 10,
   "id": "ecc189b6-0ed4-4cfa-9370-0b51715a731a",
   "metadata": {},
   "outputs": [
    {
     "name": "stdout",
     "output_type": "stream",
     "text": [
      "hi\n"
     ]
    }
   ],
   "source": [
    "#method overriding\n",
    "class demo1:\n",
    "    def greeting(self):\n",
    "        print(\"hello\")\n",
    "class demo2(demo1):\n",
    "    def greeting(self):\n",
    "        print(\"hi\")\n",
    "        \n",
    "d2 = demo2()\n",
    "d2.greeting()"
   ]
  },
  {
   "cell_type": "code",
   "execution_count": null,
   "id": "3025bed9-0f77-4e8b-9ec5-4ec57794824b",
   "metadata": {},
   "outputs": [],
   "source": []
  }
 ],
 "metadata": {
  "kernelspec": {
   "display_name": "Python 3 (ipykernel)",
   "language": "python",
   "name": "python3"
  },
  "language_info": {
   "codemirror_mode": {
    "name": "ipython",
    "version": 3
   },
   "file_extension": ".py",
   "mimetype": "text/x-python",
   "name": "python",
   "nbconvert_exporter": "python",
   "pygments_lexer": "ipython3",
   "version": "3.11.7"
  }
 },
 "nbformat": 4,
 "nbformat_minor": 5
}
