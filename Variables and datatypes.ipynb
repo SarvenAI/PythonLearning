{
 "cells": [
  {
   "cell_type": "code",
   "execution_count": 10,
   "id": "6cf6cee1-b84f-4fba-a8b7-6fa5a6667b0c",
   "metadata": {},
   "outputs": [],
   "source": [
    "word1 = \"happy\""
   ]
  },
  {
   "cell_type": "code",
   "execution_count": 11,
   "id": "1ab8a098-8fa9-4246-895f-86dee12c2de2",
   "metadata": {},
   "outputs": [],
   "source": [
    "word2 = \"learning\""
   ]
  },
  {
   "cell_type": "code",
   "execution_count": 12,
   "id": "550c482b-a9be-4fce-8333-7eb8b38993f9",
   "metadata": {},
   "outputs": [
    {
     "name": "stdout",
     "output_type": "stream",
     "text": [
      "happy\n",
      "learning\n"
     ]
    }
   ],
   "source": [
    "print(word1)\n",
    "print(word2)"
   ]
  },
  {
   "cell_type": "code",
   "execution_count": 13,
   "id": "bfd73e4e-af51-4b55-b739-f9614a4e85fe",
   "metadata": {},
   "outputs": [
    {
     "name": "stdout",
     "output_type": "stream",
     "text": [
      "happy--learning\n"
     ]
    }
   ],
   "source": [
    "print(word1,word2,sep=\"--\")"
   ]
  },
  {
   "cell_type": "code",
   "execution_count": 14,
   "id": "7ecbb0dc-dff4-4864-b22f-ad14aad6e6b2",
   "metadata": {},
   "outputs": [],
   "source": [
    "x = 2"
   ]
  },
  {
   "cell_type": "code",
   "execution_count": 15,
   "id": "bd108c72-d688-44fd-8cb4-e6c0568f1093",
   "metadata": {},
   "outputs": [
    {
     "data": {
      "text/plain": [
       "int"
      ]
     },
     "execution_count": 15,
     "metadata": {},
     "output_type": "execute_result"
    }
   ],
   "source": [
    "type(x)"
   ]
  },
  {
   "cell_type": "code",
   "execution_count": 16,
   "id": "347f499c-b27e-4b76-81e3-cf3f85a70b31",
   "metadata": {},
   "outputs": [
    {
     "data": {
      "text/plain": [
       "float"
      ]
     },
     "execution_count": 16,
     "metadata": {},
     "output_type": "execute_result"
    }
   ],
   "source": [
    "y = 1.1\n",
    "type(y)"
   ]
  },
  {
   "cell_type": "code",
   "execution_count": 18,
   "id": "d4d2d22a-a3b9-4374-841e-cffdac9284e0",
   "metadata": {},
   "outputs": [],
   "source": [
    "y= \"hai\""
   ]
  },
  {
   "cell_type": "code",
   "execution_count": 19,
   "id": "905171d5-f8e4-44d0-93a8-ccc2a459c417",
   "metadata": {},
   "outputs": [
    {
     "data": {
      "text/plain": [
       "str"
      ]
     },
     "execution_count": 19,
     "metadata": {},
     "output_type": "execute_result"
    }
   ],
   "source": [
    "type(y)"
   ]
  },
  {
   "cell_type": "code",
   "execution_count": 20,
   "id": "2e45bc2d-e4b8-432c-a5f0-177ad3b41c35",
   "metadata": {},
   "outputs": [
    {
     "data": {
      "text/plain": [
       "bool"
      ]
     },
     "execution_count": 20,
     "metadata": {},
     "output_type": "execute_result"
    }
   ],
   "source": [
    "b = True\n",
    "type(b)"
   ]
  },
  {
   "cell_type": "code",
   "execution_count": 21,
   "id": "d4538216-bdac-46bd-aefd-8897a9412b80",
   "metadata": {},
   "outputs": [],
   "source": [
    "z= \"hello world\""
   ]
  },
  {
   "cell_type": "code",
   "execution_count": 22,
   "id": "ffaa5676-0f7a-477f-8c42-303370f01bf0",
   "metadata": {},
   "outputs": [
    {
     "data": {
      "text/plain": [
       "'hello saran'"
      ]
     },
     "execution_count": 22,
     "metadata": {},
     "output_type": "execute_result"
    }
   ],
   "source": [
    "z.replace(\"world\",\"\\\"saran\")"
   ]
  },
  {
   "cell_type": "code",
   "execution_count": 23,
   "id": "e48379d7-f47b-46e2-bff4-cb7ea02460ec",
   "metadata": {},
   "outputs": [
    {
     "data": {
      "text/plain": [
       "'hello world'"
      ]
     },
     "execution_count": 23,
     "metadata": {},
     "output_type": "execute_result"
    }
   ],
   "source": [
    "z"
   ]
  },
  {
   "cell_type": "code",
   "execution_count": 27,
   "id": "c08ac978-e370-4579-84d1-749e0381980d",
   "metadata": {},
   "outputs": [],
   "source": [
    "s = \"this is \\\"saran\\\"\""
   ]
  },
  {
   "cell_type": "code",
   "execution_count": 28,
   "id": "95ff00f4-c586-4b3b-9178-e7cac54ab304",
   "metadata": {},
   "outputs": [
    {
     "name": "stdout",
     "output_type": "stream",
     "text": [
      "this is \"saran\"\n"
     ]
    }
   ],
   "source": [
    "print(s)"
   ]
  },
  {
   "cell_type": "code",
   "execution_count": 2,
   "id": "7283c871-c5fe-499d-a09d-2329ae594ab2",
   "metadata": {},
   "outputs": [],
   "source": [
    "t = \"this is \\\"test\\\"\""
   ]
  },
  {
   "cell_type": "code",
   "execution_count": 3,
   "id": "321e70cd-bdd8-405e-b622-f6447651e6bd",
   "metadata": {},
   "outputs": [
    {
     "name": "stdout",
     "output_type": "stream",
     "text": [
      "this is \"test\"\n"
     ]
    }
   ],
   "source": [
    "print(t)"
   ]
  },
  {
   "cell_type": "code",
   "execution_count": 4,
   "id": "b35a4ab2-799c-4c8b-91f3-4e3d26fefb97",
   "metadata": {},
   "outputs": [],
   "source": [
    "z = \"hello world\""
   ]
  },
  {
   "cell_type": "code",
   "execution_count": 5,
   "id": "54853696-c2e5-4cc9-9c24-8f1fd29ec06e",
   "metadata": {},
   "outputs": [
    {
     "data": {
      "text/plain": [
       "'h'"
      ]
     },
     "execution_count": 5,
     "metadata": {},
     "output_type": "execute_result"
    }
   ],
   "source": [
    "z[0]"
   ]
  },
  {
   "cell_type": "code",
   "execution_count": 6,
   "id": "81761c74-d449-4753-a371-657f2ee6b14b",
   "metadata": {},
   "outputs": [
    {
     "data": {
      "text/plain": [
       "'e'"
      ]
     },
     "execution_count": 6,
     "metadata": {},
     "output_type": "execute_result"
    }
   ],
   "source": [
    "z[1]"
   ]
  },
  {
   "cell_type": "code",
   "execution_count": 8,
   "id": "c6957991-925c-4924-9132-d1838b52caef",
   "metadata": {},
   "outputs": [
    {
     "name": "stdout",
     "output_type": "stream",
     "text": [
      "hello\n"
     ]
    }
   ],
   "source": [
    "print(z[0:5])"
   ]
  },
  {
   "cell_type": "raw",
   "id": "b7675b85-7eac-403e-aaad-cdf9a4f7155f",
   "metadata": {},
   "source": [
    "z = \"hello world\""
   ]
  },
  {
   "cell_type": "code",
   "execution_count": 9,
   "id": "c29ae3dc-d25a-402d-9c7c-82481fecd6ae",
   "metadata": {},
   "outputs": [
    {
     "name": "stdout",
     "output_type": "stream",
     "text": [
      "d\n"
     ]
    }
   ],
   "source": [
    "print(z[-1])"
   ]
  },
  {
   "cell_type": "code",
   "execution_count": 12,
   "id": "2aae01c9-b684-4b43-9654-59d097ae294f",
   "metadata": {},
   "outputs": [
    {
     "name": "stdout",
     "output_type": "stream",
     "text": [
      "my name issaranand i live inindia\n"
     ]
    }
   ],
   "source": [
    "name = \"saran\"\n",
    "place = \"india\"\n",
    "print(\"my name is\" + name + \"and i live in\" + place)"
   ]
  },
  {
   "cell_type": "code",
   "execution_count": 16,
   "id": "3d44491b-8117-4542-876d-f3f0ace06861",
   "metadata": {},
   "outputs": [
    {
     "name": "stdout",
     "output_type": "stream",
     "text": [
      "my name is saran and i live in india\n"
     ]
    }
   ],
   "source": [
    "print(f\"my name is {name} and i live in {place}\")"
   ]
  },
  {
   "cell_type": "code",
   "execution_count": 19,
   "id": "7c77817d-f434-4540-afac-bf946dec3a7e",
   "metadata": {},
   "outputs": [
    {
     "name": "stdin",
     "output_type": "stream",
     "text": [
      "what is your name venkatesh\n"
     ]
    }
   ],
   "source": [
    "name = input(\"what is your name\")"
   ]
  },
  {
   "cell_type": "code",
   "execution_count": 22,
   "id": "e4add1d9-c9cf-4b9d-b3a1-e4e8feecd9ad",
   "metadata": {},
   "outputs": [
    {
     "name": "stdout",
     "output_type": "stream",
     "text": [
      "how are you venkatesh\n"
     ]
    }
   ],
   "source": [
    "print(f\"how are you {name}\" )"
   ]
  },
  {
   "cell_type": "code",
   "execution_count": 23,
   "id": "95e29086-4df4-4eb7-9d56-27d6cf345bd3",
   "metadata": {},
   "outputs": [
    {
     "data": {
      "text/plain": [
       "str"
      ]
     },
     "execution_count": 23,
     "metadata": {},
     "output_type": "execute_result"
    }
   ],
   "source": [
    "type(name)"
   ]
  },
  {
   "cell_type": "code",
   "execution_count": null,
   "id": "73cfbf03-863d-49fc-9db5-a66222a96038",
   "metadata": {},
   "outputs": [],
   "source": []
  }
 ],
 "metadata": {
  "kernelspec": {
   "display_name": "Python 3 (ipykernel)",
   "language": "python",
   "name": "python3"
  },
  "language_info": {
   "codemirror_mode": {
    "name": "ipython",
    "version": 3
   },
   "file_extension": ".py",
   "mimetype": "text/x-python",
   "name": "python",
   "nbconvert_exporter": "python",
   "pygments_lexer": "ipython3",
   "version": "3.11.7"
  }
 },
 "nbformat": 4,
 "nbformat_minor": 5
}
