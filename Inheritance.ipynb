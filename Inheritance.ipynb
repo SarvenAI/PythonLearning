{
 "cells": [
  {
   "cell_type": "code",
   "execution_count": 11,
   "id": "fad9a291-cc97-4c4a-ae18-bba9c9894b6d",
   "metadata": {},
   "outputs": [],
   "source": [
    "class car:\n",
    "    def breakcheck(self):\n",
    "        print(\"good condition\")\n",
    "\n",
    "    def wheelscheck(self):\n",
    "        print(\"good condition\")\n",
    "\n",
    "class hatchback(pertrolcar):\n",
    "    def hatchbackcheck(self):\n",
    "        print(\"good condition\")\n",
    "\n",
    "class pertrolcar():\n",
    "    def enginecheck(self):\n",
    "        print(\"good condition\")"
   ]
  },
  {
   "cell_type": "code",
   "execution_count": 12,
   "id": "86ee8dc9-5ac2-41ae-821e-629dc27047a3",
   "metadata": {},
   "outputs": [],
   "source": [
    "tesla = car()"
   ]
  },
  {
   "cell_type": "code",
   "execution_count": 14,
   "id": "2f05aa31-e9c3-4830-96f9-f0fb03a6fa43",
   "metadata": {},
   "outputs": [
    {
     "name": "stdout",
     "output_type": "stream",
     "text": [
      "good condition\n",
      "good condition\n",
      "good condition\n",
      "good condition\n",
      "good condition\n"
     ]
    }
   ],
   "source": [
    "tesla.breakcheck()\n",
    "tesla.wheelscheck()\n",
    "\n",
    "maruti = hatchback()\n",
    "maruti.enginecheck()\n",
    "maruti.breakcheck()\n",
    "maruti.hatchbackcheck()"
   ]
  },
  {
   "cell_type": "code",
   "execution_count": 15,
   "id": "279f0395-aa6d-4911-a217-0b33354981e0",
   "metadata": {},
   "outputs": [],
   "source": [
    "class car:\n",
    "    def breakcheck(self):\n",
    "        print(\"good condition\")\n",
    "\n",
    "    def wheelscheck(self):\n",
    "        print(\"good condition\")\n",
    "\n",
    "class hatchback(pertrolcar,car):\n",
    "    def hatchbackcheck(self):\n",
    "        print(\"good condition\")\n",
    "\n",
    "class pertrolcar():\n",
    "    def enginecheck(self):\n",
    "        print(\"good condition\")\n",
    "        "
   ]
  },
  {
   "cell_type": "code",
   "execution_count": 16,
   "id": "2d1c52b6-91d0-4f5a-908e-1400c1718b67",
   "metadata": {},
   "outputs": [
    {
     "name": "stdout",
     "output_type": "stream",
     "text": [
      "good condition\n"
     ]
    }
   ],
   "source": [
    "tesla = hatchback()\n",
    "tesla.hatchbackcheck()"
   ]
  },
  {
   "cell_type": "code",
   "execution_count": null,
   "id": "ff8eda5c-ae5a-4fb1-8930-74de7c822005",
   "metadata": {},
   "outputs": [],
   "source": []
  }
 ],
 "metadata": {
  "kernelspec": {
   "display_name": "Python 3 (ipykernel)",
   "language": "python",
   "name": "python3"
  },
  "language_info": {
   "codemirror_mode": {
    "name": "ipython",
    "version": 3
   },
   "file_extension": ".py",
   "mimetype": "text/x-python",
   "name": "python",
   "nbconvert_exporter": "python",
   "pygments_lexer": "ipython3",
   "version": "3.11.7"
  }
 },
 "nbformat": 4,
 "nbformat_minor": 5
}
