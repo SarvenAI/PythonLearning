{
 "cells": [
  {
   "cell_type": "code",
   "execution_count": 1,
   "id": "c9f32a2c-e383-4642-904a-3adef3ec73d6",
   "metadata": {},
   "outputs": [],
   "source": [
    "subject = [\"Tamil\",\"Engish\",\"Maths\"]"
   ]
  },
  {
   "cell_type": "code",
   "execution_count": 2,
   "id": "62808d03-59fb-4eda-b51f-8cb1e9a37a34",
   "metadata": {},
   "outputs": [
    {
     "data": {
      "text/plain": [
       "list"
      ]
     },
     "execution_count": 2,
     "metadata": {},
     "output_type": "execute_result"
    }
   ],
   "source": [
    "type(subject)"
   ]
  },
  {
   "cell_type": "code",
   "execution_count": 4,
   "id": "23e5186e-1eb2-4691-987a-3e20d1aa8930",
   "metadata": {},
   "outputs": [
    {
     "data": {
      "text/plain": [
       "'Tamil'"
      ]
     },
     "execution_count": 4,
     "metadata": {},
     "output_type": "execute_result"
    }
   ],
   "source": [
    "subject[0]"
   ]
  },
  {
   "cell_type": "code",
   "execution_count": 8,
   "id": "8ba1fdeb-413e-4dec-b989-7924e2885f8b",
   "metadata": {},
   "outputs": [
    {
     "data": {
      "text/plain": [
       "['Tamil', 'Engish', 'Maths']"
      ]
     },
     "execution_count": 8,
     "metadata": {},
     "output_type": "execute_result"
    }
   ],
   "source": [
    "subject[0:3]"
   ]
  },
  {
   "cell_type": "code",
   "execution_count": 9,
   "id": "d4d8e235-76e0-48ca-8406-612fc854a360",
   "metadata": {},
   "outputs": [],
   "source": [
    "subject.append(\"Science\")"
   ]
  },
  {
   "cell_type": "code",
   "execution_count": 10,
   "id": "3f2ec26e-d226-4fc3-b3bc-5676a02452db",
   "metadata": {},
   "outputs": [
    {
     "name": "stdout",
     "output_type": "stream",
     "text": [
      "['Tamil', 'Engish', 'Maths', 'Science']\n"
     ]
    }
   ],
   "source": [
    "print(subject)"
   ]
  },
  {
   "cell_type": "code",
   "execution_count": 11,
   "id": "e99460b2-28ef-42af-8c3a-5c9abad0fe75",
   "metadata": {},
   "outputs": [],
   "source": [
    "subject.remove(\"Science\")"
   ]
  },
  {
   "cell_type": "code",
   "execution_count": 12,
   "id": "d552b391-6e87-4195-8105-00815d0c6008",
   "metadata": {},
   "outputs": [
    {
     "name": "stdout",
     "output_type": "stream",
     "text": [
      "['Tamil', 'Engish', 'Maths']\n"
     ]
    }
   ],
   "source": [
    "print(subject)"
   ]
  },
  {
   "cell_type": "code",
   "execution_count": 13,
   "id": "c2422f80-32a1-4cde-85fc-1e69c9af549e",
   "metadata": {},
   "outputs": [],
   "source": [
    "subjects =[\"computer\"]"
   ]
  },
  {
   "cell_type": "code",
   "execution_count": 14,
   "id": "3311e5a2-a436-44d1-a2c9-d0c55153e9dd",
   "metadata": {},
   "outputs": [],
   "source": [
    "subject.extend(subjects)"
   ]
  },
  {
   "cell_type": "code",
   "execution_count": 15,
   "id": "6661a83c-3dc5-4e4f-8957-77cfb04a92b3",
   "metadata": {},
   "outputs": [
    {
     "name": "stdout",
     "output_type": "stream",
     "text": [
      "['Tamil', 'Engish', 'Maths', 'computer']\n"
     ]
    }
   ],
   "source": [
    "print(subject)"
   ]
  },
  {
   "cell_type": "code",
   "execution_count": 16,
   "id": "b44b701c-87fb-4b44-b8de-6dbe57f3d325",
   "metadata": {},
   "outputs": [],
   "source": [
    "subject.sort()"
   ]
  },
  {
   "cell_type": "code",
   "execution_count": 17,
   "id": "196b7049-fefb-45a2-9b9f-ebc002d6725c",
   "metadata": {},
   "outputs": [
    {
     "name": "stdout",
     "output_type": "stream",
     "text": [
      "['Engish', 'Maths', 'Tamil', 'computer']\n"
     ]
    }
   ],
   "source": [
    "print(subject)"
   ]
  },
  {
   "cell_type": "code",
   "execution_count": 18,
   "id": "a3f7b9cf-7e31-4c23-8ecf-79b5ada1cd9e",
   "metadata": {},
   "outputs": [],
   "source": [
    "subject.sort(reverse=True)"
   ]
  },
  {
   "cell_type": "code",
   "execution_count": 19,
   "id": "bdcd9090-8d9f-4b78-b1db-164f13441f3b",
   "metadata": {},
   "outputs": [
    {
     "name": "stdout",
     "output_type": "stream",
     "text": [
      "['computer', 'Tamil', 'Maths', 'Engish']\n"
     ]
    }
   ],
   "source": [
    "print(subject)"
   ]
  },
  {
   "cell_type": "code",
   "execution_count": 21,
   "id": "731f3804-8335-4285-9930-741cb091d74d",
   "metadata": {},
   "outputs": [],
   "source": [
    "del subject[2]"
   ]
  },
  {
   "cell_type": "code",
   "execution_count": 22,
   "id": "67b100cb-75cb-4936-9ba7-86a89352c649",
   "metadata": {},
   "outputs": [
    {
     "name": "stdout",
     "output_type": "stream",
     "text": [
      "['computer', 'Tamil', 'Engish']\n"
     ]
    }
   ],
   "source": [
    "print(subject)"
   ]
  },
  {
   "cell_type": "code",
   "execution_count": 23,
   "id": "116da48b-180b-4228-b17e-8294e361b7a0",
   "metadata": {},
   "outputs": [],
   "source": [
    "subject_2 = \",\".join(subject)"
   ]
  },
  {
   "cell_type": "code",
   "execution_count": 24,
   "id": "7eef589e-2690-46e4-9c72-39ccc06544a5",
   "metadata": {},
   "outputs": [
    {
     "name": "stdout",
     "output_type": "stream",
     "text": [
      "computer,Tamil,Engish\n"
     ]
    }
   ],
   "source": [
    "print(subject_2)"
   ]
  },
  {
   "cell_type": "code",
   "execution_count": 25,
   "id": "6458a028-79ce-40d6-b3dc-6fea6c26c291",
   "metadata": {},
   "outputs": [],
   "source": [
    "Medals = (\"Gold\",\"Silver\",\"Bronze\")"
   ]
  },
  {
   "cell_type": "code",
   "execution_count": 26,
   "id": "a5139e3b-2580-43bd-acf2-b07d6cc758de",
   "metadata": {},
   "outputs": [
    {
     "data": {
      "text/plain": [
       "tuple"
      ]
     },
     "execution_count": 26,
     "metadata": {},
     "output_type": "execute_result"
    }
   ],
   "source": [
    "type(Medals)"
   ]
  },
  {
   "cell_type": "code",
   "execution_count": 28,
   "id": "542f0e80-d59c-49f9-aab9-42d78251c74d",
   "metadata": {},
   "outputs": [],
   "source": [
    "Medal1,Medal2,Medal3 = Medals"
   ]
  },
  {
   "cell_type": "code",
   "execution_count": 29,
   "id": "983fb39f-20f5-40c0-831b-0c06f8416124",
   "metadata": {},
   "outputs": [
    {
     "name": "stdout",
     "output_type": "stream",
     "text": [
      "Gold\n"
     ]
    }
   ],
   "source": [
    "print(Medal1)"
   ]
  },
  {
   "cell_type": "code",
   "execution_count": 30,
   "id": "37433373-ed7c-4fa1-b8d7-bce25ffe38e6",
   "metadata": {},
   "outputs": [],
   "source": [
    "Medals_c = (Medal1,Medal2,Medal3)"
   ]
  },
  {
   "cell_type": "code",
   "execution_count": 32,
   "id": "36c80ee7-f8e0-4fcd-b93e-2a86b81d0499",
   "metadata": {},
   "outputs": [
    {
     "name": "stdout",
     "output_type": "stream",
     "text": [
      "('Gold', 'Silver', 'Bronze')\n"
     ]
    }
   ],
   "source": [
    "print(Medals_c)"
   ]
  },
  {
   "cell_type": "markdown",
   "id": "d9077bbe-3d25-4b6b-a9a1-d3ed3619d154",
   "metadata": {},
   "source": [
    "Medals_c\n",
    "\n"
   ]
  },
  {
   "cell_type": "code",
   "execution_count": 33,
   "id": "8d75a8bf-015a-44b0-9e24-9b2e65f5ef00",
   "metadata": {},
   "outputs": [
    {
     "name": "stdout",
     "output_type": "stream",
     "text": [
      "('Gold', 'Silver', 'Bronze')\n"
     ]
    }
   ],
   "source": [
    "print(Medals)"
   ]
  },
  {
   "cell_type": "code",
   "execution_count": 34,
   "id": "ac7d5efd-7c3d-4d9c-b6f4-7cc07b5a3912",
   "metadata": {},
   "outputs": [
    {
     "data": {
      "text/plain": [
       "1"
      ]
     },
     "execution_count": 34,
     "metadata": {},
     "output_type": "execute_result"
    }
   ],
   "source": [
    "Medals.count(\"Gold\")"
   ]
  },
  {
   "cell_type": "code",
   "execution_count": 35,
   "id": "7ec26c15-a2da-455f-b426-169072e8ccf1",
   "metadata": {},
   "outputs": [
    {
     "data": {
      "text/plain": [
       "0"
      ]
     },
     "execution_count": 35,
     "metadata": {},
     "output_type": "execute_result"
    }
   ],
   "source": [
    "Medals.index(\"Gold\")"
   ]
  },
  {
   "cell_type": "code",
   "execution_count": 36,
   "id": "88f0a1ca-bf3f-453e-bc3d-a69e5b625fe1",
   "metadata": {},
   "outputs": [
    {
     "ename": "SyntaxError",
     "evalue": "invalid syntax (4188786897.py, line 1)",
     "output_type": "error",
     "traceback": [
      "\u001b[1;36m  Cell \u001b[1;32mIn[36], line 1\u001b[1;36m\u001b[0m\n\u001b[1;33m    Immutable :  boolean integer float string tuples\u001b[0m\n\u001b[1;37m                         ^\u001b[0m\n\u001b[1;31mSyntaxError\u001b[0m\u001b[1;31m:\u001b[0m invalid syntax\n"
     ]
    }
   ],
   "source": [
    "Immutable :  boolean integer float string tuples\n",
    "mutable List dictionaries sets\n"
   ]
  },
  {
   "cell_type": "code",
   "execution_count": 1,
   "id": "4d313ccf-401e-4f25-8405-f9874daf9ae4",
   "metadata": {},
   "outputs": [],
   "source": [
    "Employee_details = {\"name\":\"saran\",\"age\":36,\"desgination\":\"Software engineer\"}"
   ]
  },
  {
   "cell_type": "code",
   "execution_count": 2,
   "id": "4ca874a4-9fc6-42f4-8ca2-1963e0019786",
   "metadata": {},
   "outputs": [
    {
     "data": {
      "text/plain": [
       "dict"
      ]
     },
     "execution_count": 2,
     "metadata": {},
     "output_type": "execute_result"
    }
   ],
   "source": [
    "type(Employee_details)"
   ]
  },
  {
   "cell_type": "code",
   "execution_count": 3,
   "id": "cd510f1d-5c09-4d4e-b4f3-3aea3642457e",
   "metadata": {},
   "outputs": [
    {
     "data": {
      "text/plain": [
       "dict_keys(['name', 'age', 'desgination'])"
      ]
     },
     "execution_count": 3,
     "metadata": {},
     "output_type": "execute_result"
    }
   ],
   "source": [
    "Employee_details.keys()\n"
   ]
  },
  {
   "cell_type": "code",
   "execution_count": 5,
   "id": "6ddb22ca-368f-4c47-9b90-6d1dcc032ba7",
   "metadata": {},
   "outputs": [
    {
     "data": {
      "text/plain": [
       "dict_values(['saran', 36, 'Software engineer'])"
      ]
     },
     "execution_count": 5,
     "metadata": {},
     "output_type": "execute_result"
    }
   ],
   "source": [
    "Employee_details.values()"
   ]
  },
  {
   "cell_type": "code",
   "execution_count": 6,
   "id": "92109b65-35e7-45da-8640-50150cc128ae",
   "metadata": {},
   "outputs": [
    {
     "data": {
      "text/plain": [
       "[('name', 'saran'), ('age', 36), ('desgination', 'Software engineer')]"
      ]
     },
     "execution_count": 6,
     "metadata": {},
     "output_type": "execute_result"
    }
   ],
   "source": [
    "list(Employee_details.items())"
   ]
  },
  {
   "cell_type": "code",
   "execution_count": 7,
   "id": "dfed2600-6c07-4300-99e3-d334e1b1e9e2",
   "metadata": {},
   "outputs": [
    {
     "data": {
      "text/plain": [
       "'saran'"
      ]
     },
     "execution_count": 7,
     "metadata": {},
     "output_type": "execute_result"
    }
   ],
   "source": [
    "Employee_details.get(\"name\")"
   ]
  },
  {
   "cell_type": "code",
   "execution_count": 8,
   "id": "e6944d59-1fe3-450f-baa3-efccf22da785",
   "metadata": {},
   "outputs": [],
   "source": [
    "colors = [\"green\",\"green\"]"
   ]
  },
  {
   "cell_type": "code",
   "execution_count": 9,
   "id": "9215a7e4-52ad-424d-b2aa-998438312a34",
   "metadata": {},
   "outputs": [
    {
     "name": "stdout",
     "output_type": "stream",
     "text": [
      "['green', 'green']\n"
     ]
    }
   ],
   "source": [
    "print(colors)"
   ]
  },
  {
   "cell_type": "code",
   "execution_count": 10,
   "id": "f09b07d5-42df-4e3b-ad9c-005cfa1c27b7",
   "metadata": {},
   "outputs": [],
   "source": [
    "s_colors = set(colors)"
   ]
  },
  {
   "cell_type": "code",
   "execution_count": 11,
   "id": "b83cbc22-9cc0-46c7-8d80-b8b9a2cb4a21",
   "metadata": {},
   "outputs": [
    {
     "name": "stdout",
     "output_type": "stream",
     "text": [
      "{'green'}\n"
     ]
    }
   ],
   "source": [
    "print(s_colors)"
   ]
  },
  {
   "cell_type": "code",
   "execution_count": 12,
   "id": "1ec98073-3bfb-4bcb-852f-c2f29e90e207",
   "metadata": {},
   "outputs": [],
   "source": [
    "s_colors.add(\"green\")"
   ]
  },
  {
   "cell_type": "code",
   "execution_count": 13,
   "id": "0f027a0b-b99b-40f8-bcf9-40093e80ba7b",
   "metadata": {},
   "outputs": [
    {
     "name": "stdout",
     "output_type": "stream",
     "text": [
      "{'green'}\n"
     ]
    }
   ],
   "source": [
    "print(s_colors)"
   ]
  },
  {
   "cell_type": "code",
   "execution_count": 14,
   "id": "aa74f75d-5b97-47c8-9698-acadac042858",
   "metadata": {},
   "outputs": [],
   "source": [
    "s_colors.add(\"yellow\")"
   ]
  },
  {
   "cell_type": "code",
   "execution_count": 15,
   "id": "4f2acfba-0dd4-420e-aa59-58c988cc59e8",
   "metadata": {},
   "outputs": [
    {
     "name": "stdout",
     "output_type": "stream",
     "text": [
      "{'green', 'yellow'}\n"
     ]
    }
   ],
   "source": [
    "print(s_colors)"
   ]
  },
  {
   "cell_type": "code",
   "execution_count": 16,
   "id": "693fb148-9d19-4017-9de9-b94fd94bfb75",
   "metadata": {},
   "outputs": [
    {
     "data": {
      "text/plain": [
       "True"
      ]
     },
     "execution_count": 16,
     "metadata": {},
     "output_type": "execute_result"
    }
   ],
   "source": [
    "\"yellow\" in s_colors"
   ]
  },
  {
   "cell_type": "code",
   "execution_count": 17,
   "id": "648c786b-5f0e-41b5-8f33-fad1c16cd547",
   "metadata": {},
   "outputs": [
    {
     "data": {
      "text/plain": [
       "2"
      ]
     },
     "execution_count": 17,
     "metadata": {},
     "output_type": "execute_result"
    }
   ],
   "source": [
    "len(s_colors)"
   ]
  },
  {
   "cell_type": "code",
   "execution_count": null,
   "id": "555d387b-3fce-47b1-955c-9552a22b5c6e",
   "metadata": {},
   "outputs": [],
   "source": []
  }
 ],
 "metadata": {
  "kernelspec": {
   "display_name": "Python 3 (ipykernel)",
   "language": "python",
   "name": "python3"
  },
  "language_info": {
   "codemirror_mode": {
    "name": "ipython",
    "version": 3
   },
   "file_extension": ".py",
   "mimetype": "text/x-python",
   "name": "python",
   "nbconvert_exporter": "python",
   "pygments_lexer": "ipython3",
   "version": "3.11.7"
  }
 },
 "nbformat": 4,
 "nbformat_minor": 5
}
