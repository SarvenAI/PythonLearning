{
 "cells": [
  {
   "cell_type": "code",
   "execution_count": 15,
   "id": "fe2956e2-7ba9-4698-8b9a-a7bdf62b54f5",
   "metadata": {},
   "outputs": [
    {
     "name": "stdin",
     "output_type": "stream",
     "text": [
      "Please enter number of seconds: 5\n"
     ]
    },
    {
     "name": "stdout",
     "output_type": "stream",
     "text": [
      "00:05\n",
      "00:04\n",
      "00:03\n",
      "00:02\n",
      "00:01\n",
      "0\n"
     ]
    }
   ],
   "source": [
    "import time\n",
    "def countdowntimer(t):\n",
    "    while t:\n",
    "        mins,secs = divmod(t,60)\n",
    "        timer = \"{:02d}:{:02d}\".format(mins,secs)\n",
    "        print(timer) \n",
    "        t =t - 1\n",
    "    print(t)\n",
    "t = int(input(\"Please enter number of seconds:\"))\n",
    "countdowntimer(t)"
   ]
  },
  {
   "cell_type": "code",
   "execution_count": null,
   "id": "2a1ea9e2-391c-4f6d-8109-8d56001772ec",
   "metadata": {},
   "outputs": [],
   "source": []
  },
  {
   "cell_type": "code",
   "execution_count": null,
   "id": "9b41d0bd-93f6-4067-a989-0d3fea6884ed",
   "metadata": {},
   "outputs": [],
   "source": []
  },
  {
   "cell_type": "code",
   "execution_count": null,
   "id": "7a772082-d185-4dd0-bd3a-e0a55b7e8d63",
   "metadata": {},
   "outputs": [],
   "source": []
  }
 ],
 "metadata": {
  "kernelspec": {
   "display_name": "Python 3 (ipykernel)",
   "language": "python",
   "name": "python3"
  },
  "language_info": {
   "codemirror_mode": {
    "name": "ipython",
    "version": 3
   },
   "file_extension": ".py",
   "mimetype": "text/x-python",
   "name": "python",
   "nbconvert_exporter": "python",
   "pygments_lexer": "ipython3",
   "version": "3.11.7"
  }
 },
 "nbformat": 4,
 "nbformat_minor": 5
}
