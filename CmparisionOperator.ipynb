{
 "cells": [
  {
   "cell_type": "code",
   "execution_count": 3,
   "id": "0ce06e9c-f4c5-4fd9-b27a-dd84f6207681",
   "metadata": {},
   "outputs": [
    {
     "data": {
      "text/plain": [
       "True"
      ]
     },
     "execution_count": 3,
     "metadata": {},
     "output_type": "execute_result"
    }
   ],
   "source": [
    "age1 = 35\n",
    "age2 = 45\n",
    "age1 != age2"
   ]
  },
  {
   "cell_type": "code",
   "execution_count": null,
   "id": "63082521-58b5-4d79-b6c4-a213ff4827c5",
   "metadata": {},
   "outputs": [],
   "source": []
  }
 ],
 "metadata": {
  "kernelspec": {
   "display_name": "Python 3 (ipykernel)",
   "language": "python",
   "name": "python3"
  },
  "language_info": {
   "codemirror_mode": {
    "name": "ipython",
    "version": 3
   },
   "file_extension": ".py",
   "mimetype": "text/x-python",
   "name": "python",
   "nbconvert_exporter": "python",
   "pygments_lexer": "ipython3",
   "version": "3.11.7"
  }
 },
 "nbformat": 4,
 "nbformat_minor": 5
}
