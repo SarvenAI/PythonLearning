{
 "cells": [
  {
   "cell_type": "code",
   "execution_count": 1,
   "id": "8260870c-ffc0-4077-987d-3f1cb14c83f0",
   "metadata": {},
   "outputs": [
    {
     "name": "stdout",
     "output_type": "stream",
     "text": [
      "Welcome to random password generator\n"
     ]
    },
    {
     "name": "stdin",
     "output_type": "stream",
     "text": [
      "Please enter the no of passwords to be generated:  5\n",
      "Please enter the length of the password needed 5\n"
     ]
    },
    {
     "name": "stdout",
     "output_type": "stream",
     "text": [
      "here are your random passwords\n",
      "33115\n",
      "23315\n",
      "52223\n",
      "34124\n",
      "51412\n"
     ]
    }
   ],
   "source": [
    "#rndom password generator\n",
    "import random\n",
    "print(\"Welcome to random password generator\")\n",
    "randomchars = \"12345\"\n",
    "nbrofpwds = int(input(\"Please enter the no of passwords to be generated: \"))\n",
    "pwdlength = int(input(\"Please enter the length of the password needed\"))\n",
    "print(\"here are your random passwords\")\n",
    "for x in range(nbrofpwds):\n",
    "    pwd =\"\"\n",
    "    for chars in range(pwdlength):\n",
    "        pwd = pwd + random.choice(randomchars)\n",
    "    print(pwd)"
   ]
  },
  {
   "cell_type": "code",
   "execution_count": null,
   "id": "fca40524-8977-4e0f-b3d9-42bd3ca78f97",
   "metadata": {},
   "outputs": [],
   "source": []
  }
 ],
 "metadata": {
  "kernelspec": {
   "display_name": "Python 3 (ipykernel)",
   "language": "python",
   "name": "python3"
  },
  "language_info": {
   "codemirror_mode": {
    "name": "ipython",
    "version": 3
   },
   "file_extension": ".py",
   "mimetype": "text/x-python",
   "name": "python",
   "nbconvert_exporter": "python",
   "pygments_lexer": "ipython3",
   "version": "3.11.7"
  }
 },
 "nbformat": 4,
 "nbformat_minor": 5
}
