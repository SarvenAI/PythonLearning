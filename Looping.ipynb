{
 "cells": [
  {
   "cell_type": "code",
   "execution_count": 1,
   "id": "b02b7aa9-f50c-44be-90d2-fe60ad47b940",
   "metadata": {},
   "outputs": [
    {
     "name": "stdout",
     "output_type": "stream",
     "text": [
      "Sunday\n",
      "Monday\n",
      "Tuesday\n",
      "Wednesday\n",
      "Thursday\n",
      "Friday\n",
      "Saturday\n"
     ]
    }
   ],
   "source": [
    "week = [\"Sunday\",\"Monday\",\"Tuesday\",\"Wednesday\",\"Thursday\",\"Friday\",\"Saturday\"]\n",
    "for day in week:\n",
    "    print(day)"
   ]
  },
  {
   "cell_type": "code",
   "execution_count": 3,
   "id": "a44fdce7-c4e8-4c50-8a0b-398f9fc40b5e",
   "metadata": {},
   "outputs": [
    {
     "name": "stdout",
     "output_type": "stream",
     "text": [
      "Sunday\n",
      "Monday\n",
      "Tuesday\n",
      "Wednesday\n",
      "Have a nice day\n"
     ]
    }
   ],
   "source": [
    "for day in week:\n",
    "    print(day)\n",
    "    if day == \"Wednesday\":\n",
    "        break\n",
    "print(\"Have a nice day\")"
   ]
  },
  {
   "cell_type": "code",
   "execution_count": 5,
   "id": "31b7399f-dd8a-4228-b70f-9dcb94a7a4eb",
   "metadata": {},
   "outputs": [
    {
     "name": "stdout",
     "output_type": "stream",
     "text": [
      "Sunday\n",
      "Monday\n",
      "Tuesday\n",
      "Thursday\n",
      "Friday\n",
      "Saturday\n",
      "Have a nice day\n"
     ]
    }
   ],
   "source": [
    "for day in week:\n",
    "    if day == \"Wednesday\":\n",
    "        continue\n",
    "    print(day)\n",
    "\n",
    "print(\"Have a nice day\")"
   ]
  },
  {
   "cell_type": "code",
   "execution_count": 10,
   "id": "ec936a80-b134-4d45-bcbc-001d8e8f2427",
   "metadata": {},
   "outputs": [
    {
     "name": "stdout",
     "output_type": "stream",
     "text": [
      "0\n",
      "1\n",
      "2\n",
      "3\n",
      "4\n",
      "5\n"
     ]
    }
   ],
   "source": [
    "num = 0\n",
    "while num <= 10:\n",
    "    print(num)\n",
    "    if num == 5:\n",
    "        break\n",
    "    num = num +1 \n"
   ]
  },
  {
   "cell_type": "code",
   "execution_count": 13,
   "id": "b3d32b3a-fc42-46f6-b532-9cbe82774889",
   "metadata": {},
   "outputs": [
    {
     "name": "stdout",
     "output_type": "stream",
     "text": [
      "1\n",
      "2\n",
      "3\n",
      "4\n",
      "6\n",
      "7\n",
      "8\n",
      "9\n",
      "10\n",
      "11\n"
     ]
    }
   ],
   "source": [
    "num = 0\n",
    "while num <= 10:\n",
    "    num = num +1\n",
    "    if num == 5:\n",
    "        continue\n",
    "    print(num)\n",
    "\n",
    "     "
   ]
  },
  {
   "cell_type": "code",
   "execution_count": 14,
   "id": "b51906b1-0116-4917-bf06-b1b029e289d2",
   "metadata": {},
   "outputs": [
    {
     "name": "stdout",
     "output_type": "stream",
     "text": [
      "0\n",
      "1\n"
     ]
    }
   ],
   "source": [
    "for num in range(2):\n",
    "    print(num)"
   ]
  },
  {
   "cell_type": "code",
   "execution_count": 17,
   "id": "bab1f1b0-bcc7-498b-be85-d2feb4ac6a3c",
   "metadata": {},
   "outputs": [
    {
     "name": "stdout",
     "output_type": "stream",
     "text": [
      "2\n",
      "4\n",
      "6\n",
      "8\n"
     ]
    }
   ],
   "source": [
    "for num in range(2,10,2):\n",
    "    print(num)"
   ]
  },
  {
   "cell_type": "code",
   "execution_count": 26,
   "id": "cbce9436-fdde-4d5a-a13f-c489ac975d8b",
   "metadata": {},
   "outputs": [
    {
     "name": "stdout",
     "output_type": "stream",
     "text": [
      "1 Sunday\n",
      "2 Monday\n",
      "3 Tuesday\n",
      "4 Wednesday\n",
      "5 Thursday\n",
      "6 Friday\n",
      "7 Saturday\n"
     ]
    }
   ],
   "source": [
    "week = [\"Sunday\",\"Monday\",\"Tuesday\",\"Wednesday\",\"Thursday\",\"Friday\",\"Saturday\"]\n",
    "for num, day in enumerate(week,start=1):\n",
    "    print(num,day)"
   ]
  },
  {
   "cell_type": "code",
   "execution_count": 28,
   "id": "de006fd3-be5d-42f8-9271-5499218d9d7c",
   "metadata": {},
   "outputs": [
    {
     "name": "stdout",
     "output_type": "stream",
     "text": [
      "0 s\n",
      "1 a\n",
      "2 r\n",
      "3 a\n",
      "4 n\n"
     ]
    }
   ],
   "source": [
    "name = \"saran\"\n",
    "for n,s in enumerate(name):\n",
    "    print(n,s)"
   ]
  },
  {
   "cell_type": "code",
   "execution_count": 29,
   "id": "ac9ba5cf-dce4-489d-88b4-98890069b92c",
   "metadata": {},
   "outputs": [
    {
     "ename": "SyntaxError",
     "evalue": "invalid syntax (2424910831.py, line 1)",
     "output_type": "error",
     "traceback": [
      "\u001b[1;36m  Cell \u001b[1;32mIn[29], line 1\u001b[1;36m\u001b[0m\n\u001b[1;33m    print(\"ss\",\"ss\",sep:\",\")\u001b[0m\n\u001b[1;37m                       ^\u001b[0m\n\u001b[1;31mSyntaxError\u001b[0m\u001b[1;31m:\u001b[0m invalid syntax\n"
     ]
    }
   ],
   "source": []
  },
  {
   "cell_type": "code",
   "execution_count": null,
   "id": "a8229cb6-621b-4052-9143-3301bef7b7ab",
   "metadata": {},
   "outputs": [],
   "source": []
  },
  {
   "cell_type": "code",
   "execution_count": null,
   "id": "84e6fdd0-fce8-471f-a9f8-6b2aa4205a60",
   "metadata": {},
   "outputs": [],
   "source": []
  },
  {
   "cell_type": "code",
   "execution_count": null,
   "id": "f338fb3a-f589-4046-8202-80baefcf393d",
   "metadata": {},
   "outputs": [],
   "source": []
  },
  {
   "cell_type": "code",
   "execution_count": null,
   "id": "9a414c0e-e741-4497-a76f-c85943e8dee1",
   "metadata": {},
   "outputs": [],
   "source": []
  },
  {
   "cell_type": "code",
   "execution_count": null,
   "id": "4f944a86-1b62-4d24-9a05-d2f62e496fdf",
   "metadata": {},
   "outputs": [],
   "source": []
  },
  {
   "cell_type": "code",
   "execution_count": null,
   "id": "3e438ed7-00b8-473f-ac45-25d5de240142",
   "metadata": {},
   "outputs": [],
   "source": []
  },
  {
   "cell_type": "code",
   "execution_count": null,
   "id": "d49c869a-3b54-4142-b4f5-66046a6e3ec9",
   "metadata": {},
   "outputs": [],
   "source": []
  },
  {
   "cell_type": "code",
   "execution_count": null,
   "id": "517fc244-a9a4-4d2d-8ba3-f5cf8bd42db8",
   "metadata": {},
   "outputs": [],
   "source": []
  },
  {
   "cell_type": "code",
   "execution_count": null,
   "id": "0e35e7ab-d091-4b59-b9e5-f3f5193b11f4",
   "metadata": {},
   "outputs": [],
   "source": []
  },
  {
   "cell_type": "code",
   "execution_count": null,
   "id": "d1644a0a-2f49-4df7-80ca-92e665fa29b5",
   "metadata": {},
   "outputs": [],
   "source": []
  },
  {
   "cell_type": "code",
   "execution_count": null,
   "id": "42c0df57-187c-4e16-b72a-5428c8c9c5d4",
   "metadata": {},
   "outputs": [],
   "source": []
  },
  {
   "cell_type": "code",
   "execution_count": null,
   "id": "cf39a68a-5493-4ae2-b2dc-79f606e3da7a",
   "metadata": {},
   "outputs": [],
   "source": []
  },
  {
   "cell_type": "code",
   "execution_count": null,
   "id": "c7944694-732c-416f-961a-9a0d7d745ec5",
   "metadata": {},
   "outputs": [],
   "source": []
  },
  {
   "cell_type": "code",
   "execution_count": null,
   "id": "ad10c9fb-ece6-42ab-9690-2afd3b4de732",
   "metadata": {},
   "outputs": [],
   "source": []
  },
  {
   "cell_type": "code",
   "execution_count": null,
   "id": "8fd9effe-71cd-413d-81f3-d06316550205",
   "metadata": {},
   "outputs": [],
   "source": []
  },
  {
   "cell_type": "code",
   "execution_count": null,
   "id": "582d6c6c-85f8-4961-a63f-ff60167292de",
   "metadata": {},
   "outputs": [],
   "source": []
  },
  {
   "cell_type": "code",
   "execution_count": null,
   "id": "ba02232d-81d0-4aad-a09e-8b494ad6c7ab",
   "metadata": {},
   "outputs": [],
   "source": []
  },
  {
   "cell_type": "code",
   "execution_count": null,
   "id": "32d80f29-c761-43b5-b4ee-f4ccd137f739",
   "metadata": {},
   "outputs": [],
   "source": []
  },
  {
   "cell_type": "code",
   "execution_count": null,
   "id": "ae2f0d80-927b-4a54-93ab-2a048e609b91",
   "metadata": {},
   "outputs": [],
   "source": []
  },
  {
   "cell_type": "code",
   "execution_count": null,
   "id": "48d17ce5-da32-4f00-82da-47d0a20b1c7e",
   "metadata": {},
   "outputs": [],
   "source": []
  },
  {
   "cell_type": "code",
   "execution_count": null,
   "id": "451b7154-602b-4dc8-b71a-2a0e8f16d69d",
   "metadata": {},
   "outputs": [],
   "source": []
  },
  {
   "cell_type": "code",
   "execution_count": null,
   "id": "eafb1eae-147b-4712-9baa-3996a6c1c095",
   "metadata": {},
   "outputs": [],
   "source": []
  }
 ],
 "metadata": {
  "kernelspec": {
   "display_name": "Python 3 (ipykernel)",
   "language": "python",
   "name": "python3"
  },
  "language_info": {
   "codemirror_mode": {
    "name": "ipython",
    "version": 3
   },
   "file_extension": ".py",
   "mimetype": "text/x-python",
   "name": "python",
   "nbconvert_exporter": "python",
   "pygments_lexer": "ipython3",
   "version": "3.11.7"
  }
 },
 "nbformat": 4,
 "nbformat_minor": 5
}
