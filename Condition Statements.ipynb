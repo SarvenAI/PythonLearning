{
 "cells": [
  {
   "cell_type": "code",
   "execution_count": 12,
   "id": "b0a05a96-6f8e-40c0-8303-c4df1895ffcc",
   "metadata": {},
   "outputs": [
    {
     "name": "stdin",
     "output_type": "stream",
     "text": [
      "whats ur mark 55\n"
     ]
    },
    {
     "name": "stdout",
     "output_type": "stream",
     "text": [
      "pass\n",
      "Grade:\n",
      "c\n"
     ]
    }
   ],
   "source": [
    "marks = int(input(\"whats ur mark\"))\n",
    "if marks > 40:\n",
    "    print(\"pass\")\n",
    "else:\n",
    "    print(\"falied\")\n",
    "\n",
    "#marks >= 80 = A grade;\n",
    "print(\"Grade:\")\n",
    "if marks >= 80:\n",
    "    print(\"a\")\n",
    "elif marks>=60 and marks <80:\n",
    "    print(\"b\")\n",
    "elif marks >=40 and marks <60:\n",
    "    print(\"c\")\n",
    "else:\n",
    "    print(\"f\")"
   ]
  },
  {
   "cell_type": "code",
   "execution_count": null,
   "id": "b611f191-96e8-44c8-8eb4-3b4584cb62d5",
   "metadata": {},
   "outputs": [],
   "source": []
  }
 ],
 "metadata": {
  "kernelspec": {
   "display_name": "Python 3 (ipykernel)",
   "language": "python",
   "name": "python3"
  },
  "language_info": {
   "codemirror_mode": {
    "name": "ipython",
    "version": 3
   },
   "file_extension": ".py",
   "mimetype": "text/x-python",
   "name": "python",
   "nbconvert_exporter": "python",
   "pygments_lexer": "ipython3",
   "version": "3.11.7"
  }
 },
 "nbformat": 4,
 "nbformat_minor": 5
}
