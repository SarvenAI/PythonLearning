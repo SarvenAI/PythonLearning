{
 "cells": [
  {
   "cell_type": "code",
   "execution_count": 3,
   "id": "91695830-2aa3-4bc5-af06-f64fae4094ec",
   "metadata": {},
   "outputs": [
    {
     "name": "stdout",
     "output_type": "stream",
     "text": [
      "100\n",
      "this is encapsulation demo\n"
     ]
    }
   ],
   "source": [
    "class encapdemo():\n",
    "    x = 100\n",
    "    def demo(self):\n",
    "        print(\"this is encapsulation demo\")\n",
    "\n",
    "encapdemoobj = encapdemo()\n",
    "print(encapdemoobj.x)\n",
    "encapdemoobj.demo()"
   ]
  },
  {
   "cell_type": "code",
   "execution_count": 4,
   "id": "c9cc0504-e945-4902-9870-cb7817d270e4",
   "metadata": {},
   "outputs": [
    {
     "ename": "AttributeError",
     "evalue": "'encapdemo' object has no attribute 'x'",
     "output_type": "error",
     "traceback": [
      "\u001b[1;31m---------------------------------------------------------------------------\u001b[0m",
      "\u001b[1;31mAttributeError\u001b[0m                            Traceback (most recent call last)",
      "Cell \u001b[1;32mIn[4], line 7\u001b[0m\n\u001b[0;32m      4\u001b[0m         \u001b[38;5;28mprint\u001b[39m(\u001b[38;5;124m\"\u001b[39m\u001b[38;5;124mthis is encapsulation demo\u001b[39m\u001b[38;5;124m\"\u001b[39m)\n\u001b[0;32m      6\u001b[0m encapdemoobj \u001b[38;5;241m=\u001b[39m encapdemo()\n\u001b[1;32m----> 7\u001b[0m \u001b[38;5;28mprint\u001b[39m(encapdemoobj\u001b[38;5;241m.\u001b[39mx)\n\u001b[0;32m      8\u001b[0m encapdemoobj\u001b[38;5;241m.\u001b[39mdemo()\n",
      "\u001b[1;31mAttributeError\u001b[0m: 'encapdemo' object has no attribute 'x'"
     ]
    }
   ],
   "source": [
    "class encapdemo():\n",
    "    __x = 100\n",
    "    def demo(self):\n",
    "        print(\"this is encapsulation demo\")\n",
    "\n",
    "encapdemoobj = encapdemo()\n",
    "print(encapdemoobj.x)\n",
    "encapdemoobj.demo()"
   ]
  },
  {
   "cell_type": "code",
   "execution_count": 9,
   "id": "79f37639-c65a-4347-97df-5bebfe6b4d52",
   "metadata": {},
   "outputs": [
    {
     "ename": "AttributeError",
     "evalue": "'encapdemo' object has no attribute '__demo'",
     "output_type": "error",
     "traceback": [
      "\u001b[1;31m---------------------------------------------------------------------------\u001b[0m",
      "\u001b[1;31mAttributeError\u001b[0m                            Traceback (most recent call last)",
      "Cell \u001b[1;32mIn[9], line 8\u001b[0m\n\u001b[0;32m      6\u001b[0m encapdemoobj \u001b[38;5;241m=\u001b[39m encapdemo()\n\u001b[0;32m      7\u001b[0m \u001b[38;5;66;03m#print(encapdemoobj.x)\u001b[39;00m\n\u001b[1;32m----> 8\u001b[0m encapdemoobj\u001b[38;5;241m.\u001b[39m__demo()\n",
      "\u001b[1;31mAttributeError\u001b[0m: 'encapdemo' object has no attribute '__demo'"
     ]
    }
   ],
   "source": [
    "class encapdemo():\n",
    "    __x = 100\n",
    "    def __demo(self):\n",
    "        print(\"this is encapsulation demo\")\n",
    "\n",
    "encapdemoobj = encapdemo()\n",
    "#print(encapdemoobj.x)\n",
    "#encapdemoobj.demo()"
   ]
  },
  {
   "cell_type": "code",
   "execution_count": 11,
   "id": "cd736a28-5945-4b28-bb52-b3bc2cfad7cc",
   "metadata": {},
   "outputs": [
    {
     "name": "stdout",
     "output_type": "stream",
     "text": [
      "100\n",
      "this is encapsulation demo\n"
     ]
    }
   ],
   "source": [
    "#mangling\n",
    "class encapdemo():\n",
    "    __x = 100\n",
    "    def __demo(self):\n",
    "        print(\"this is encapsulation demo\")\n",
    "\n",
    "encapdemoobj = encapdemo()\n",
    "print(encapdemoobj._encapdemo__x)\n",
    "encapdemoobj._encapdemo__demo()"
   ]
  },
  {
   "cell_type": "code",
   "execution_count": null,
   "id": "a635f0c7-4dd5-4b8f-a16f-f6553ff4ff22",
   "metadata": {},
   "outputs": [],
   "source": []
  }
 ],
 "metadata": {
  "kernelspec": {
   "display_name": "Python 3 (ipykernel)",
   "language": "python",
   "name": "python3"
  },
  "language_info": {
   "codemirror_mode": {
    "name": "ipython",
    "version": 3
   },
   "file_extension": ".py",
   "mimetype": "text/x-python",
   "name": "python",
   "nbconvert_exporter": "python",
   "pygments_lexer": "ipython3",
   "version": "3.11.7"
  }
 },
 "nbformat": 4,
 "nbformat_minor": 5
}
