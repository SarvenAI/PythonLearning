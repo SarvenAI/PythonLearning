{
 "cells": [
  {
   "cell_type": "code",
   "execution_count": 1,
   "id": "6e9c2165-4327-4b5d-9ff1-e978a2a44d62",
   "metadata": {},
   "outputs": [],
   "source": [
    "def get_grade(mark):\n",
    "    return \"c\""
   ]
  },
  {
   "cell_type": "code",
   "execution_count": 6,
   "id": "8b50ba00-2f78-4674-919d-4133a25460cb",
   "metadata": {},
   "outputs": [
    {
     "name": "stdin",
     "output_type": "stream",
     "text": [
      "get mark 33\n"
     ]
    },
    {
     "name": "stdout",
     "output_type": "stream",
     "text": [
      "c\n"
     ]
    }
   ],
   "source": [
    "print(get_grade(int(input(\"get mark\"))))"
   ]
  },
  {
   "cell_type": "code",
   "execution_count": 16,
   "id": "20faebb3-9ff4-4b75-a4ba-4225dcedc81c",
   "metadata": {},
   "outputs": [],
   "source": [
    "def greeting(name,place = None):\n",
    "    if place:\n",
    "            message = f\"hello {name} ! welcome to {place}\"\n",
    "    else:\n",
    "        message = f\"hello {name} ! welcome\"\n",
    "    return message"
   ]
  },
  {
   "cell_type": "code",
   "execution_count": 17,
   "id": "4206ffe9-6903-445b-aee1-fc3bd13876f9",
   "metadata": {},
   "outputs": [
    {
     "name": "stdout",
     "output_type": "stream",
     "text": [
      "hello saran ! welcome to india\n"
     ]
    }
   ],
   "source": [
    "print(greeting(\"saran\",\"india\"))"
   ]
  },
  {
   "cell_type": "code",
   "execution_count": 18,
   "id": "6841fa43-2ffe-4469-89bb-2654d32ad8f7",
   "metadata": {},
   "outputs": [
    {
     "name": "stdout",
     "output_type": "stream",
     "text": [
      "hello saran ! welcome\n"
     ]
    }
   ],
   "source": [
    "print(greeting(\"saran\"))"
   ]
  },
  {
   "cell_type": "code",
   "execution_count": 19,
   "id": "0ca16d0f-ad3a-477a-b569-7d8f3cdc5fcf",
   "metadata": {},
   "outputs": [],
   "source": [
    "import datetime"
   ]
  },
  {
   "cell_type": "code",
   "execution_count": 23,
   "id": "d00182ef-70f0-466f-a86f-d1a6e9786e58",
   "metadata": {},
   "outputs": [
    {
     "name": "stdout",
     "output_type": "stream",
     "text": [
      "2023-02-12\n"
     ]
    }
   ],
   "source": [
    "print(datetime.date(2023,2,12))"
   ]
  },
  {
   "cell_type": "code",
   "execution_count": 25,
   "id": "2a5fc957-51c1-485a-9b03-a6ecf2f1c997",
   "metadata": {},
   "outputs": [],
   "source": [
    "import Userdefined"
   ]
  },
  {
   "cell_type": "code",
   "execution_count": 26,
   "id": "9d92f8a7-5555-4b13-a539-29b27a1fe3bf",
   "metadata": {},
   "outputs": [
    {
     "data": {
      "text/plain": [
       "'c'"
      ]
     },
     "execution_count": 26,
     "metadata": {},
     "output_type": "execute_result"
    }
   ],
   "source": [
    "Userdefined.get_grade(\"22\")"
   ]
  },
  {
   "cell_type": "code",
   "execution_count": 27,
   "id": "ad9f7fb5-0a28-44a2-9a33-12ef3e90c9ee",
   "metadata": {},
   "outputs": [
    {
     "data": {
      "text/plain": [
       "'hello saran ! welcome'"
      ]
     },
     "execution_count": 27,
     "metadata": {},
     "output_type": "execute_result"
    }
   ],
   "source": [
    "Userdefined.greeting(\"saran\")"
   ]
  },
  {
   "cell_type": "code",
   "execution_count": null,
   "id": "fc1f9463-a07b-486f-828e-0fe1d270ada6",
   "metadata": {},
   "outputs": [],
   "source": []
  },
  {
   "cell_type": "code",
   "execution_count": null,
   "id": "b8c62a1c-7daa-46c7-9870-a20f4a8a98a8",
   "metadata": {},
   "outputs": [],
   "source": []
  },
  {
   "cell_type": "code",
   "execution_count": null,
   "id": "e6618b5a-1bad-4e0d-8380-9e42681c3b2d",
   "metadata": {},
   "outputs": [],
   "source": []
  },
  {
   "cell_type": "code",
   "execution_count": null,
   "id": "55312ac3-db32-45bd-ac47-805a12288a2e",
   "metadata": {},
   "outputs": [],
   "source": []
  },
  {
   "cell_type": "code",
   "execution_count": null,
   "id": "063d66d7-aaf5-422d-a03e-9ac90b4a87d6",
   "metadata": {},
   "outputs": [],
   "source": []
  },
  {
   "cell_type": "code",
   "execution_count": null,
   "id": "6f16d731-05e4-46b5-924f-767d33d2d24f",
   "metadata": {},
   "outputs": [],
   "source": []
  },
  {
   "cell_type": "code",
   "execution_count": null,
   "id": "2999f792-c5a9-41c1-abdf-6b730780c2b3",
   "metadata": {},
   "outputs": [],
   "source": []
  },
  {
   "cell_type": "code",
   "execution_count": null,
   "id": "94399d29-2a1d-4274-994e-65dbcd632a82",
   "metadata": {},
   "outputs": [],
   "source": []
  }
 ],
 "metadata": {
  "kernelspec": {
   "display_name": "Python 3 (ipykernel)",
   "language": "python",
   "name": "python3"
  },
  "language_info": {
   "codemirror_mode": {
    "name": "ipython",
    "version": 3
   },
   "file_extension": ".py",
   "mimetype": "text/x-python",
   "name": "python",
   "nbconvert_exporter": "python",
   "pygments_lexer": "ipython3",
   "version": "3.11.7"
  }
 },
 "nbformat": 4,
 "nbformat_minor": 5
}
