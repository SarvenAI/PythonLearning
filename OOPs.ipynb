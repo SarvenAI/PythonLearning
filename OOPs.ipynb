{
 "cells": [
  {
   "cell_type": "code",
   "execution_count": 1,
   "id": "e0215eaa-058c-48bf-b814-9c046bd602b5",
   "metadata": {},
   "outputs": [],
   "source": [
    "class cars():\n",
    "    pass\n",
    "\n",
    "tesla = cars()\n",
    "\n"
   ]
  },
  {
   "cell_type": "code",
   "execution_count": 2,
   "id": "592fbf53-9056-478d-abd2-3ef9c3cf107e",
   "metadata": {},
   "outputs": [],
   "source": [
    "tesla.model = \"s\"\n",
    "tesla.color = \"black\"\n",
    "tesla.exprice = 10000\n"
   ]
  },
  {
   "cell_type": "code",
   "execution_count": 4,
   "id": "1d8216a1-ef26-411d-8aa1-4592d3d5a389",
   "metadata": {},
   "outputs": [
    {
     "name": "stdout",
     "output_type": "stream",
     "text": [
      "black\n"
     ]
    }
   ],
   "source": [
    "print(tesla.color)"
   ]
  },
  {
   "cell_type": "code",
   "execution_count": 22,
   "id": "1b42ac0e-a061-4070-a5a6-4205dd0a10f2",
   "metadata": {},
   "outputs": [],
   "source": [
    "class cars():\n",
    "    def __init__(self,model,color,exprice):\n",
    "        self.model = model\n",
    "        self.color = color\n",
    "        self.expice = exprice\n",
    "        \n",
    "    def onroadprice(self):\n",
    "        self.onroadprice = int((self.expice)+(self.expice*0.18))"
   ]
  },
  {
   "cell_type": "code",
   "execution_count": 23,
   "id": "8bd3c89a-84a5-48ef-9ac1-ad59ba12e01f",
   "metadata": {},
   "outputs": [],
   "source": [
    "tesla = cars(\"s\",\"black\",10000)\n",
    "tesla.variant =\"electric\""
   ]
  },
  {
   "cell_type": "code",
   "execution_count": 24,
   "id": "b5bf79bc-c709-4798-ad9b-c2ec9b31747f",
   "metadata": {},
   "outputs": [
    {
     "name": "stdout",
     "output_type": "stream",
     "text": [
      "black\n"
     ]
    }
   ],
   "source": [
    "print(tesla.color)"
   ]
  },
  {
   "cell_type": "code",
   "execution_count": 27,
   "id": "d2066320-f83e-49a4-998b-3a0ba9d6e85a",
   "metadata": {},
   "outputs": [
    {
     "name": "stdout",
     "output_type": "stream",
     "text": [
      "{'model': 's', 'color': 'black', 'expice': 10000, 'variant': 'electric', 'onroadprice': 11800}\n"
     ]
    }
   ],
   "source": [
    "print(tesla.__dict__)"
   ]
  },
  {
   "cell_type": "code",
   "execution_count": 31,
   "id": "19ae6b6b-e878-4971-b3be-e25ba6c1548c",
   "metadata": {},
   "outputs": [
    {
     "name": "stdout",
     "output_type": "stream",
     "text": [
      "11800\n"
     ]
    }
   ],
   "source": [
    "print(tesla.onroadprice)"
   ]
  },
  {
   "cell_type": "code",
   "execution_count": null,
   "id": "40328008-1d28-4459-9c96-184ac6d33298",
   "metadata": {},
   "outputs": [],
   "source": []
  }
 ],
 "metadata": {
  "kernelspec": {
   "display_name": "Python 3 (ipykernel)",
   "language": "python",
   "name": "python3"
  },
  "language_info": {
   "codemirror_mode": {
    "name": "ipython",
    "version": 3
   },
   "file_extension": ".py",
   "mimetype": "text/x-python",
   "name": "python",
   "nbconvert_exporter": "python",
   "pygments_lexer": "ipython3",
   "version": "3.11.7"
  }
 },
 "nbformat": 4,
 "nbformat_minor": 5
}
