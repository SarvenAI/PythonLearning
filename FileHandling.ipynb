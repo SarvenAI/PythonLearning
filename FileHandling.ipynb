{
 "cells": [
  {
   "cell_type": "code",
   "execution_count": 16,
   "id": "29838065-4cac-4d67-880a-202577e8ef43",
   "metadata": {},
   "outputs": [],
   "source": [
    "samplefile = open('pythonfiles/test_file','w')"
   ]
  },
  {
   "cell_type": "code",
   "execution_count": 17,
   "id": "6df419f9-e07b-403c-99da-52617b43b527",
   "metadata": {},
   "outputs": [
    {
     "data": {
      "text/plain": [
       "29"
      ]
     },
     "execution_count": 17,
     "metadata": {},
     "output_type": "execute_result"
    }
   ],
   "source": [
    "samplefile.write(\"welcome to python programming\")"
   ]
  },
  {
   "cell_type": "code",
   "execution_count": 18,
   "id": "ad0e0e80-cd96-4099-bd17-eb8145f8e55d",
   "metadata": {},
   "outputs": [],
   "source": [
    "samplefile = open('pythonfiles/test_file','r')"
   ]
  },
  {
   "cell_type": "code",
   "execution_count": 19,
   "id": "5ff08f8b-9c29-49c8-8a46-80c8cae387f1",
   "metadata": {},
   "outputs": [
    {
     "data": {
      "text/plain": [
       "'welcome to python programming'"
      ]
     },
     "execution_count": 19,
     "metadata": {},
     "output_type": "execute_result"
    }
   ],
   "source": [
    "samplefile.read()"
   ]
  },
  {
   "cell_type": "code",
   "execution_count": null,
   "id": "c81f093c-19b2-47f9-953d-acdc0362aa07",
   "metadata": {},
   "outputs": [],
   "source": []
  }
 ],
 "metadata": {
  "kernelspec": {
   "display_name": "Python 3 (ipykernel)",
   "language": "python",
   "name": "python3"
  },
  "language_info": {
   "codemirror_mode": {
    "name": "ipython",
    "version": 3
   },
   "file_extension": ".py",
   "mimetype": "text/x-python",
   "name": "python",
   "nbconvert_exporter": "python",
   "pygments_lexer": "ipython3",
   "version": "3.11.7"
  }
 },
 "nbformat": 4,
 "nbformat_minor": 5
}
